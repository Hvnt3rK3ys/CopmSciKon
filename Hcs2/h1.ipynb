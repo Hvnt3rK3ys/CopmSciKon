{
 "cells": [
  {
   "cell_type": "markdown",
   "metadata": {},
   "source": [
    "<h1 style=\"color:#0c0a0b;background-color:#71b12c;font-size: 5rem; text-align: center;padding:0.5rem;border-radius:5rem;  border-bottom: 1.5rem solid #edf2f8\"> 🧮 The first machine learning model 🧐  <a href=\"#cita1\" target=\"_blank\" style=\"color:#b5ff46; font-size:2.5rem\">[1]</a></h1>\n",
    "\n",
    "<div style=\"flex: 1; margin: 10px; text-align: center;\">\n",
    "\n",
    "<a href=\"https://datarefiner.com/feed/why-tda\" target=\"_blank\">\n",
    "\n",
    "<img src=\"data:image/png;base64,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\" style=\"width: 100%; max-width: 40rem; border-radius: 10px; transition: transform 0.3s ease;\">\n",
    "\n",
    "<span style=\"text-decoration: none; color: #edf2f8; font-weight: bold; display: block; margin-top: 10px;\"> Linear Regression </span>\n",
    "\n",
    "</a>\n",
    "\n",
    "</div>\n",
    "\n",
    "\n",
    "\n",
    "\n"
   ]
  },
  {
   "cell_type": "markdown",
   "metadata": {},
   "source": [
    "<h2 style=\"color:#8A26BD;font-size: 2rem; border-bottom: .5rem solid #71b12c;\">1) 🧮 Ajuste lineal y demostraciones</h2>\n",
    "\n",
    "Dado el conjunto de datos $(\\mathbf{x}\\_i,y\\_i)$ para $i=1,\\dots,m$, con $\\mathbf{x}\\_i\\in\\mathbb{R}^k$ y $y\\_i\\in\\mathbb{R}$, se construye la matriz de diseño $\\mathbf{X}\\in\\mathbb{R}^{m\\times(k+1)}$ añadiendo una columna de unos para el sesgo.\n",
    "El vector de parámetros es $\\mathbf{c}\\in\\mathbb{R}^{k+1}$ y el modelo lineal considera la predicción\n",
    "\n",
    "$$\n",
    "y(\\mathbf{x})=\\mathbf{c}^T\\mathbf{x}.\n",
    "$$\n",
    "\n",
    "La función de costo a minimizar es\n",
    "\n",
    "$$\n",
    "F(\\mathbf{c})=(\\mathbf{X}\\mathbf{c}-\\mathbf{y})^T(\\mathbf{X}\\mathbf{c}-\\mathbf{y}),\n",
    "$$\n",
    "\n",
    "donde $\\mathbf{y}=(y\\_1,\\dots,y\\_m)^T$.\n",
    "\n",
    "\n",
    "\n",
    "<h3 style=\"color:#71b12c;font-size: 2.2rem;\">1.1) Objetivos (tareas)</h3>\n",
    "\n",
    "<h4 style=\"color:#E67E22;font-size: 1.8rem;\">1.1.1) (1) Reescritura algebraica</h4>\n",
    "\n",
    "* **Enunciar y demostrar:** Probar que\n",
    "\n",
    "$$\n",
    "F(\\mathbf{c})=\\mathbf{c}^T\\mathbf{X}^T\\mathbf{X}\\mathbf{c}-2\\mathbf{y}^T\\mathbf{X}\\mathbf{c}+\\mathbf{y}^T\\mathbf{y}.\n",
    "$$\n"
   ]
  },
  {
   "cell_type": "markdown",
   "metadata": {},
   "source": [
    "- Expandiendo el producto:\n",
    "\n",
    "$$\n",
    "F(\\boldsymbol{c}) = (\\boldsymbol{X} \\boldsymbol{c})^T (\\boldsymbol{X} \\boldsymbol{c}) - (\\boldsymbol{X} \\boldsymbol{c})^T \\boldsymbol{y} - \\boldsymbol{y}^T (\\boldsymbol{X} \\boldsymbol{c}) + \\boldsymbol{y}^T \\boldsymbol{y}.\n",
    "$$\n",
    "\n",
    "1. $(\\boldsymbol{X} \\boldsymbol{c})^T (\\boldsymbol{X} \\boldsymbol{c}) = \\boldsymbol{c}^T \\boldsymbol{X}^T \\boldsymbol{X} \\boldsymbol{c}$. mediante la transpuesta\n",
    "2. $(\\boldsymbol{X} \\boldsymbol{c})^T \\boldsymbol{y} = \\boldsymbol{c}^T \\boldsymbol{X}^T \\boldsymbol{y}$. \n",
    "3. $\\boldsymbol{y}^T (\\boldsymbol{X} \\boldsymbol{c}) = \\boldsymbol{y}^T \\boldsymbol{X} \\boldsymbol{c}$. (el resultado es un escalar igual que la transpuesta)\n",
    "\n",
    "Dado que $(\\boldsymbol{X} \\boldsymbol{c})^T \\boldsymbol{y}$ y $\\boldsymbol{y}^T (\\boldsymbol{X} \\boldsymbol{c})$ son escalares, son iguales. Entonces:\n",
    "\n",
    "$$\n",
    "F(\\boldsymbol{c}) = \\boldsymbol{c}^T \\boldsymbol{X}^T \\boldsymbol{X} \\boldsymbol{c} - 2 \\boldsymbol{y}^T \\boldsymbol{X} \\boldsymbol{c} + \\boldsymbol{y}^T \\boldsymbol{y}.\n",
    "$$\n"
   ]
  },
  {
   "cell_type": "markdown",
   "metadata": {},
   "source": [
    "\n",
    "<h4 style=\"color:#E67E22;font-size: 1.8rem;\">1.1.2) (2) Gradiente y condición de óptimo</h4>\n",
    "\n",
    "* **Calcular y demostrar:** Mostrar que\n",
    "\n",
    "$$\n",
    "\\nabla_{\\mathbf{c}}F(\\mathbf{c})=2\\big(\\mathbf{X}^T\\mathbf{X}\\mathbf{c}-\\mathbf{X}^T\\mathbf{y}\\big),\n",
    "$$\n",
    "\n",
    "y que cualquier punto crítico satisface las ecuaciones normales\n",
    "\n",
    "$$\n",
    "\\mathbf{X}^T\\mathbf{X}\\,\\mathbf{c}=\\mathbf{X}^T\\mathbf{y},\n",
    "$$\n",
    "\n",
    "por lo que, si $\\mathbf{X}^T\\mathbf{X}$ es invertible,\n",
    "\n",
    "$$\n",
    "\\mathbf{c}=(\\mathbf{X}^T\\mathbf{X})^{-1}\\mathbf{X}^T\\mathbf{y}.\n",
    "$$\n",
    "\n"
   ]
  },
  {
   "cell_type": "markdown",
   "metadata": {},
   "source": [
    "- Partimos de:\n",
    "\n",
    "$$\n",
    "F(\\boldsymbol{c}) = \\boldsymbol{c}^T \\boldsymbol{X}^T \\boldsymbol{X} \\boldsymbol{c} - 2 \\boldsymbol{y}^T \\boldsymbol{X} \\boldsymbol{c} + \\boldsymbol{y}^T \\boldsymbol{y}.\n",
    "$$\n",
    "\n",
    "1. $\\frac{\\partial}{\\partial \\boldsymbol{c}} , \\boldsymbol{c}^T \\mathbf{A} \\boldsymbol{c} = 2\\mathbf{A}\\boldsymbol{c}$ si $\\mathbf{A}$ es simétrica.\n",
    "2. $\\frac{\\partial}{\\partial \\boldsymbol{c}} , (-2 \\boldsymbol{y}^T \\boldsymbol{X} \\boldsymbol{c}) = -2 \\boldsymbol{X}^T \\boldsymbol{y}$.\n",
    "3. La derivada de $\\boldsymbol{y}^T \\boldsymbol{y}$ es cero.\n",
    "\n",
    "- Así:\n",
    "\n",
    "$$\n",
    "\\nabla_{\\boldsymbol{c}}F = 2\\boldsymbol{X}^T\\boldsymbol{X}\\,\\boldsymbol{c} - 2\\boldsymbol{X}^T\\boldsymbol{y}.\n",
    "$$\n",
    "\n",
    "- Poniendo $\\nabla\\_{\\boldsymbol{c}}F = 0$:\n",
    "\n",
    "$$\n",
    "\\boldsymbol{X}^T \\boldsymbol{X} \\, \\boldsymbol{c} = \\boldsymbol{X}^T \\boldsymbol{y}.\n",
    "$$\n",
    "\n",
    "- Si $\\boldsymbol{X}^T\\boldsymbol{X}$ es invertible:\n",
    "\n",
    "$$\n",
    "\\boldsymbol{c} = (\\boldsymbol{X}^T\\boldsymbol{X})^{-1}\\boldsymbol{X}^T\\boldsymbol{y}.\n",
    "$$"
   ]
  },
  {
   "cell_type": "markdown",
   "metadata": {},
   "source": [
    "\n",
    "<h4 style=\"color:#E67E22;font-size: 1.8rem;\">1.1.3) (3) Convexidad y Hessiana</h4>\n",
    "\n",
    "* **Probar convexidad:** Calcular la matriz Hessiana $\\mathbf{H}$ de $F$ y demostrar que es positiva semidefinida (o definida positiva cuando corresponda).\n",
    "  Para toda $\\boldsymbol{\\xi}\\in\\mathbb{R}^{k+1}$ se debe cumplir\n",
    "\n",
    "$$\n",
    "\\boldsymbol{\\xi}^T\\mathbf{H}\\boldsymbol{\\xi}\\ge 0.\n",
    "$$\n",
    "\n",
    "Concluir que cualquier punto crítico es un mínimo global.\n",
    "\n"
   ]
  },
  {
   "cell_type": "markdown",
   "metadata": {},
   "source": [
    "- Del gradiente:\n",
    "\n",
    "$$\n",
    "\\nabla_{\\boldsymbol{c}}F = 2\\boldsymbol{X}^T\\boldsymbol{X}\\,\\boldsymbol{c} - 2\\boldsymbol{X}^T\\boldsymbol{y}.\n",
    "$$\n",
    "\n",
    "- Derivando de nuevo respecto a $\\boldsymbol{c}$:\n",
    "\n",
    "$$\n",
    "\\boldsymbol{H} = \\nabla_{\\boldsymbol{c}}^2 F = 2 \\boldsymbol{X}^T \\boldsymbol{X}.\n",
    "$$\n",
    "\n",
    "- Para cualquier $\\boldsymbol{\\xi}\\in\\mathbb{R}^{k+1}$:\n",
    "\n",
    "$$\n",
    "\\boldsymbol{\\xi}^T \\boldsymbol{H} \\boldsymbol{\\xi} = 2\\,\\boldsymbol{\\xi}^T \\boldsymbol{X}^T \\boldsymbol{X} \\,\\boldsymbol{\\xi}\n",
    "= 2\\, (\\boldsymbol{X}\\boldsymbol{\\xi})^T (\\boldsymbol{X}\\boldsymbol{\\xi})\n",
    "= 2\\|\\boldsymbol{X}\\boldsymbol{\\xi}\\|^2 \\ge 0.\n",
    "$$\n",
    "\n",
    "- Por lo tanto, $\\boldsymbol{H}$ es positivo semidefinido y $F$ es convexa.\n",
    "- El punto crítico hallado en (2) es un mínimo global.\n"
   ]
  },
  {
   "cell_type": "markdown",
   "metadata": {},
   "source": [
    "\n",
    "\n",
    "<h2 style=\"color:#8A26BD;font-size: 2rem; border-bottom: .5rem solid #71b12c;\">2) 📈 Ajuste práctico sobre datos (terrenos)</h2>\n",
    "\n",
    "Se proporciona un archivo con tres columnas:\n",
    "\n",
    "1. Columna de unos (sesgo).\n",
    "2. Área (en acres).\n",
    "3. Costo (en millones de USD).\n",
    "\n"
   ]
  },
  {
   "cell_type": "code",
   "execution_count": 12,
   "metadata": {},
   "outputs": [
    {
     "name": "stdout",
     "output_type": "stream",
     "text": [
      "shape: (9, 4)\n",
      "┌────────────┬───────┬───────────┬───────────┐\n",
      "│ statistic  ┆ Bias  ┆ Area      ┆ Cost      │\n",
      "│ ---        ┆ ---   ┆ ---       ┆ ---       │\n",
      "│ str        ┆ f64   ┆ f64       ┆ f64       │\n",
      "╞════════════╪═══════╪═══════════╪═══════════╡\n",
      "│ count      ┆ 100.0 ┆ 100.0     ┆ 100.0     │\n",
      "│ null_count ┆ 0.0   ┆ 0.0       ┆ 0.0       │\n",
      "│ mean       ┆ 1.0   ┆ 12.0      ┆ 26.963875 │\n",
      "│ std        ┆ 0.0   ┆ 4.688726  ┆ 9.640884  │\n",
      "│ min        ┆ 1.0   ┆ 4.0       ┆ 8.368342  │\n",
      "│ 25%        ┆ 1.0   ┆ 8.040404  ┆ 19.351726 │\n",
      "│ 50%        ┆ 1.0   ┆ 12.080808 ┆ 27.650072 │\n",
      "│ 75%        ┆ 1.0   ┆ 15.959596 ┆ 34.950388 │\n",
      "│ max        ┆ 1.0   ┆ 20.0      ┆ 45.304717 │\n",
      "└────────────┴───────┴───────────┴───────────┘\n"
     ]
    }
   ],
   "source": [
    "import polars as pl\n",
    "\n",
    "# Leer el archivo .txt (separador por espacios, sin encabezados)\n",
    "df = pl.read_csv(\n",
    "    \"./Data/h1data.txt\",\n",
    "    separator=\" \",           # Separador: espacio\n",
    "    has_header=False,        # No hay encabezados\n",
    "    new_columns=[\"Bias\", \"Area\", \"Cost\"],  # Nombres de columnas\n",
    "    infer_schema_length=1000 # Fuerza la inferencia correcta de tipos\n",
    ")\n",
    "\n",
    "# Mostrar estadísticas descriptivas (describe)\n",
    "print(df.describe())"
   ]
  },
  {
   "cell_type": "markdown",
   "metadata": {},
   "source": [
    "<h3 style=\"color:#71b12c;font-size: 2.2rem;\">2.1) Procedimientos requeridos</h3>\n",
    "\n",
    "<h4 style=\"color:#E67E22;font-size: 1.8rem;\">2.1.1) (4) Estimación del modelo</h4>\n",
    "\n",
    "* **Implementación:** Calcular $\\mathbf{c}=(c\\_0,c\\_1)^T$ por mínimos cuadrados:\n",
    "\n",
    "$$\n",
    "\\mathbf{c}=(\\mathbf{X}^T\\mathbf{X})^{-1}\\mathbf{X}^T\\mathbf{y}.\n",
    "$$\n",
    "\n",
    "* **Gráfica:**\n",
    "\n",
    "  * Puntos del dataset $(x\\_i,y\\_i)$ como marcadores.\n",
    "  * Recta ajustada $\\hat{y}(x)=c\\_0 + c\\_1 x$.\n",
    "  * Etiquetas claras y título.\n",
    "  \n"
   ]
  },
  {
   "cell_type": "code",
   "execution_count": 13,
   "metadata": {},
   "outputs": [
    {
     "name": "stdout",
     "output_type": "stream",
     "text": [
      "CPU times: total: 0 ns\n",
      "Wall time: 3.58 ms\n"
     ]
    }
   ],
   "source": [
    "%%time\n",
    "\"\"\"Preparar los datos para el modelo de regresión lineal\"\"\"\n",
    "import polars as pl\n",
    "import numpy as np\n",
    "\n",
    "# Extraer X (Area) y y (Cost)\n",
    "X = df.select(\"Area\").to_numpy()  \n",
    "y = df.select(\"Cost\").to_numpy().flatten()\n",
    "\n",
    "# Añadir columna de Bias (1's) para el término independiente c0\n",
    "X_with_bias = np.column_stack([np.ones_like(X), X])"
   ]
  },
  {
   "cell_type": "code",
   "execution_count": 18,
   "metadata": {},
   "outputs": [
    {
     "name": "stdout",
     "output_type": "stream",
     "text": [
      "Coeficientes: c0 (Bias) = 2.8349, c1 (Area) = 2.0107\n",
      "CPU times: total: 0 ns\n",
      "Wall time: 0 ns\n"
     ]
    }
   ],
   "source": [
    "%%time\n",
    "\"\"\"Implementar minimos cuadrados\"\"\"\n",
    "# Calcular c = (X^T X)^{-1} X^T y\n",
    "XT_X = X_with_bias.T @ X_with_bias\n",
    "XT_y = X_with_bias.T @ y\n",
    "c = np.linalg.inv(XT_X) @ XT_y  # c = [c0, c1]\n",
    "\n",
    "print(f\"Coeficientes: c0 (Bias) = {c[0]:.4f}, c1 (Area) = {c[1]:.4f}\")"
   ]
  },
  {
   "cell_type": "code",
   "execution_count": 32,
   "metadata": {},
   "outputs": [
    {
     "data": {
      "application/vnd.plotly.v1+json": {
       "config": {
        "plotlyServerURL": "https://plot.ly"
       },
       "data": [
        {
         "marker": {
          "color": "blue",
          "size": 10
         },
         "mode": "markers",
         "name": "Datos reales",
         "type": "scatter",
         "x": [
          4,
          4.161616161616162,
          4.3232323232323235,
          4.484848484848484,
          4.646464646464646,
          4.808080808080808,
          4.96969696969697,
          5.1313131313131315,
          5.292929292929293,
          5.454545454545455,
          5.616161616161616,
          5.777777777777778,
          5.9393939393939394,
          6.101010101010101,
          6.262626262626263,
          6.424242424242424,
          6.5858585858585865,
          6.747474747474747,
          6.909090909090909,
          7.070707070707071,
          7.232323232323233,
          7.3939393939393945,
          7.555555555555555,
          7.717171717171718,
          7.878787878787879,
          8.040404040404042,
          8.202020202020202,
          8.363636363636363,
          8.525252525252526,
          8.686868686868687,
          8.848484848484848,
          9.01010101010101,
          9.171717171717173,
          9.333333333333334,
          9.494949494949495,
          9.656565656565657,
          9.818181818181818,
          9.97979797979798,
          10.141414141414142,
          10.303030303030305,
          10.464646464646465,
          10.626262626262626,
          10.787878787878789,
          10.94949494949495,
          11.11111111111111,
          11.272727272727273,
          11.434343434343436,
          11.595959595959597,
          11.757575757575758,
          11.91919191919192,
          12.080808080808081,
          12.242424242424244,
          12.404040404040405,
          12.565656565656566,
          12.727272727272728,
          12.88888888888889,
          13.050505050505052,
          13.212121212121213,
          13.373737373737374,
          13.535353535353536,
          13.696969696969697,
          13.85858585858586,
          14.02020202020202,
          14.181818181818183,
          14.343434343434344,
          14.505050505050505,
          14.666666666666668,
          14.828282828282829,
          14.989898989898991,
          15.151515151515152,
          15.313131313131315,
          15.474747474747476,
          15.636363636363637,
          15.7979797979798,
          15.95959595959596,
          16.121212121212125,
          16.282828282828284,
          16.444444444444443,
          16.60606060606061,
          16.767676767676768,
          16.92929292929293,
          17.090909090909093,
          17.252525252525253,
          17.414141414141415,
          17.575757575757578,
          17.737373737373737,
          17.8989898989899,
          18.060606060606062,
          18.22222222222222,
          18.383838383838388,
          18.545454545454547,
          18.707070707070706,
          18.868686868686872,
          19.03030303030303,
          19.191919191919194,
          19.353535353535356,
          19.515151515151516,
          19.67676767676768,
          19.83838383838384,
          20
         ],
         "y": [
          11.266027457574943,
          8.368342243669156,
          14.301315415314335,
          9.84960470808577,
          13.843565530010526,
          12.560458669878274,
          11.810288834124595,
          16.319765654507567,
          14.642961846928946,
          15.103253495225555,
          14.261673590753345,
          13.623721166273691,
          16.675840973650747,
          14.573131477312437,
          16.745817649697305,
          15.307978883930259,
          13.144219266737323,
          15.44709845935364,
          12.60085422957059,
          19.351726454368052,
          18.40480362548269,
          15.407490085854286,
          21.212041821357438,
          16.309912493309,
          13.705513163252794,
          20.977654326576186,
          21.03313182624732,
          20.736104192037384,
          20.964236239345297,
          18.13993841257082,
          20.58350621070158,
          21.958088210725517,
          20.356997966420607,
          18.302015212699985,
          21.678472341170572,
          22.54453348405423,
          21.595546269124817,
          24.493136877827038,
          22.55640427580314,
          22.044059555405706,
          23.367278710011593,
          23.56944786676432,
          22.444936495374048,
          24.65333955489921,
          27.650071557547207,
          27.258110325628973,
          25.062213286003928,
          27.467194018166502,
          30.009583993497934,
          24.69951821770054,
          24.977278861935513,
          28.848989994467875,
          28.446589307740286,
          28.050311501981145,
          29.372079058954053,
          28.42669889466761,
          29.930468549758714,
          27.55941461038139,
          33.168948762342126,
          33.13742027666663,
          28.87297994171762,
          29.89199636082277,
          30.718616871957654,
          30.99330736114498,
          30.176640918753073,
          34.41385859245359,
          29.76116555637324,
          37.5284923267393,
          31.127613854102865,
          34.95038755760574,
          34.21909049420904,
          31.088755270795172,
          36.50160277226973,
          32.94162756049929,
          35.217518920268766,
          36.90236351167499,
          35.42800787907649,
          32.77762312747358,
          38.63875183064028,
          40.82279715368247,
          34.774105274468724,
          34.56791678231805,
          39.56761606308572,
          37.15193230506278,
          37.62158617990078,
          36.44642293352436,
          37.40136268146693,
          42.246065209042996,
          39.449008750477134,
          42.30649123440696,
          39.64359991805776,
          38.50829104343869,
          41.29916713929264,
          37.59600233953803,
          45.30471651967061,
          39.60381146630984,
          39.90230676397189,
          42.811399199261125,
          43.90693702982954,
          42.40446186058792
         ]
        }
       ],
       "layout": {
        "showlegend": true,
        "template": {
         "data": {
          "bar": [
           {
            "error_x": {
             "color": "#2a3f5f"
            },
            "error_y": {
             "color": "#2a3f5f"
            },
            "marker": {
             "line": {
              "color": "#E5ECF6",
              "width": 0.5
             },
             "pattern": {
              "fillmode": "overlay",
              "size": 10,
              "solidity": 0.2
             }
            },
            "type": "bar"
           }
          ],
          "barpolar": [
           {
            "marker": {
             "line": {
              "color": "#E5ECF6",
              "width": 0.5
             },
             "pattern": {
              "fillmode": "overlay",
              "size": 10,
              "solidity": 0.2
             }
            },
            "type": "barpolar"
           }
          ],
          "carpet": [
           {
            "aaxis": {
             "endlinecolor": "#2a3f5f",
             "gridcolor": "white",
             "linecolor": "white",
             "minorgridcolor": "white",
             "startlinecolor": "#2a3f5f"
            },
            "baxis": {
             "endlinecolor": "#2a3f5f",
             "gridcolor": "white",
             "linecolor": "white",
             "minorgridcolor": "white",
             "startlinecolor": "#2a3f5f"
            },
            "type": "carpet"
           }
          ],
          "choropleth": [
           {
            "colorbar": {
             "outlinewidth": 0,
             "ticks": ""
            },
            "type": "choropleth"
           }
          ],
          "contour": [
           {
            "colorbar": {
             "outlinewidth": 0,
             "ticks": ""
            },
            "colorscale": [
             [
              0,
              "#0d0887"
             ],
             [
              0.1111111111111111,
              "#46039f"
             ],
             [
              0.2222222222222222,
              "#7201a8"
             ],
             [
              0.3333333333333333,
              "#9c179e"
             ],
             [
              0.4444444444444444,
              "#bd3786"
             ],
             [
              0.5555555555555556,
              "#d8576b"
             ],
             [
              0.6666666666666666,
              "#ed7953"
             ],
             [
              0.7777777777777778,
              "#fb9f3a"
             ],
             [
              0.8888888888888888,
              "#fdca26"
             ],
             [
              1,
              "#f0f921"
             ]
            ],
            "type": "contour"
           }
          ],
          "contourcarpet": [
           {
            "colorbar": {
             "outlinewidth": 0,
             "ticks": ""
            },
            "type": "contourcarpet"
           }
          ],
          "heatmap": [
           {
            "colorbar": {
             "outlinewidth": 0,
             "ticks": ""
            },
            "colorscale": [
             [
              0,
              "#0d0887"
             ],
             [
              0.1111111111111111,
              "#46039f"
             ],
             [
              0.2222222222222222,
              "#7201a8"
             ],
             [
              0.3333333333333333,
              "#9c179e"
             ],
             [
              0.4444444444444444,
              "#bd3786"
             ],
             [
              0.5555555555555556,
              "#d8576b"
             ],
             [
              0.6666666666666666,
              "#ed7953"
             ],
             [
              0.7777777777777778,
              "#fb9f3a"
             ],
             [
              0.8888888888888888,
              "#fdca26"
             ],
             [
              1,
              "#f0f921"
             ]
            ],
            "type": "heatmap"
           }
          ],
          "heatmapgl": [
           {
            "colorbar": {
             "outlinewidth": 0,
             "ticks": ""
            },
            "colorscale": [
             [
              0,
              "#0d0887"
             ],
             [
              0.1111111111111111,
              "#46039f"
             ],
             [
              0.2222222222222222,
              "#7201a8"
             ],
             [
              0.3333333333333333,
              "#9c179e"
             ],
             [
              0.4444444444444444,
              "#bd3786"
             ],
             [
              0.5555555555555556,
              "#d8576b"
             ],
             [
              0.6666666666666666,
              "#ed7953"
             ],
             [
              0.7777777777777778,
              "#fb9f3a"
             ],
             [
              0.8888888888888888,
              "#fdca26"
             ],
             [
              1,
              "#f0f921"
             ]
            ],
            "type": "heatmapgl"
           }
          ],
          "histogram": [
           {
            "marker": {
             "pattern": {
              "fillmode": "overlay",
              "size": 10,
              "solidity": 0.2
             }
            },
            "type": "histogram"
           }
          ],
          "histogram2d": [
           {
            "colorbar": {
             "outlinewidth": 0,
             "ticks": ""
            },
            "colorscale": [
             [
              0,
              "#0d0887"
             ],
             [
              0.1111111111111111,
              "#46039f"
             ],
             [
              0.2222222222222222,
              "#7201a8"
             ],
             [
              0.3333333333333333,
              "#9c179e"
             ],
             [
              0.4444444444444444,
              "#bd3786"
             ],
             [
              0.5555555555555556,
              "#d8576b"
             ],
             [
              0.6666666666666666,
              "#ed7953"
             ],
             [
              0.7777777777777778,
              "#fb9f3a"
             ],
             [
              0.8888888888888888,
              "#fdca26"
             ],
             [
              1,
              "#f0f921"
             ]
            ],
            "type": "histogram2d"
           }
          ],
          "histogram2dcontour": [
           {
            "colorbar": {
             "outlinewidth": 0,
             "ticks": ""
            },
            "colorscale": [
             [
              0,
              "#0d0887"
             ],
             [
              0.1111111111111111,
              "#46039f"
             ],
             [
              0.2222222222222222,
              "#7201a8"
             ],
             [
              0.3333333333333333,
              "#9c179e"
             ],
             [
              0.4444444444444444,
              "#bd3786"
             ],
             [
              0.5555555555555556,
              "#d8576b"
             ],
             [
              0.6666666666666666,
              "#ed7953"
             ],
             [
              0.7777777777777778,
              "#fb9f3a"
             ],
             [
              0.8888888888888888,
              "#fdca26"
             ],
             [
              1,
              "#f0f921"
             ]
            ],
            "type": "histogram2dcontour"
           }
          ],
          "mesh3d": [
           {
            "colorbar": {
             "outlinewidth": 0,
             "ticks": ""
            },
            "type": "mesh3d"
           }
          ],
          "parcoords": [
           {
            "line": {
             "colorbar": {
              "outlinewidth": 0,
              "ticks": ""
             }
            },
            "type": "parcoords"
           }
          ],
          "pie": [
           {
            "automargin": true,
            "type": "pie"
           }
          ],
          "scatter": [
           {
            "fillpattern": {
             "fillmode": "overlay",
             "size": 10,
             "solidity": 0.2
            },
            "type": "scatter"
           }
          ],
          "scatter3d": [
           {
            "line": {
             "colorbar": {
              "outlinewidth": 0,
              "ticks": ""
             }
            },
            "marker": {
             "colorbar": {
              "outlinewidth": 0,
              "ticks": ""
             }
            },
            "type": "scatter3d"
           }
          ],
          "scattercarpet": [
           {
            "marker": {
             "colorbar": {
              "outlinewidth": 0,
              "ticks": ""
             }
            },
            "type": "scattercarpet"
           }
          ],
          "scattergeo": [
           {
            "marker": {
             "colorbar": {
              "outlinewidth": 0,
              "ticks": ""
             }
            },
            "type": "scattergeo"
           }
          ],
          "scattergl": [
           {
            "marker": {
             "colorbar": {
              "outlinewidth": 0,
              "ticks": ""
             }
            },
            "type": "scattergl"
           }
          ],
          "scattermapbox": [
           {
            "marker": {
             "colorbar": {
              "outlinewidth": 0,
              "ticks": ""
             }
            },
            "type": "scattermapbox"
           }
          ],
          "scatterpolar": [
           {
            "marker": {
             "colorbar": {
              "outlinewidth": 0,
              "ticks": ""
             }
            },
            "type": "scatterpolar"
           }
          ],
          "scatterpolargl": [
           {
            "marker": {
             "colorbar": {
              "outlinewidth": 0,
              "ticks": ""
             }
            },
            "type": "scatterpolargl"
           }
          ],
          "scatterternary": [
           {
            "marker": {
             "colorbar": {
              "outlinewidth": 0,
              "ticks": ""
             }
            },
            "type": "scatterternary"
           }
          ],
          "surface": [
           {
            "colorbar": {
             "outlinewidth": 0,
             "ticks": ""
            },
            "colorscale": [
             [
              0,
              "#0d0887"
             ],
             [
              0.1111111111111111,
              "#46039f"
             ],
             [
              0.2222222222222222,
              "#7201a8"
             ],
             [
              0.3333333333333333,
              "#9c179e"
             ],
             [
              0.4444444444444444,
              "#bd3786"
             ],
             [
              0.5555555555555556,
              "#d8576b"
             ],
             [
              0.6666666666666666,
              "#ed7953"
             ],
             [
              0.7777777777777778,
              "#fb9f3a"
             ],
             [
              0.8888888888888888,
              "#fdca26"
             ],
             [
              1,
              "#f0f921"
             ]
            ],
            "type": "surface"
           }
          ],
          "table": [
           {
            "cells": {
             "fill": {
              "color": "#EBF0F8"
             },
             "line": {
              "color": "white"
             }
            },
            "header": {
             "fill": {
              "color": "#C8D4E3"
             },
             "line": {
              "color": "white"
             }
            },
            "type": "table"
           }
          ]
         },
         "layout": {
          "annotationdefaults": {
           "arrowcolor": "#2a3f5f",
           "arrowhead": 0,
           "arrowwidth": 1
          },
          "autotypenumbers": "strict",
          "coloraxis": {
           "colorbar": {
            "outlinewidth": 0,
            "ticks": ""
           }
          },
          "colorscale": {
           "diverging": [
            [
             0,
             "#8e0152"
            ],
            [
             0.1,
             "#c51b7d"
            ],
            [
             0.2,
             "#de77ae"
            ],
            [
             0.3,
             "#f1b6da"
            ],
            [
             0.4,
             "#fde0ef"
            ],
            [
             0.5,
             "#f7f7f7"
            ],
            [
             0.6,
             "#e6f5d0"
            ],
            [
             0.7,
             "#b8e186"
            ],
            [
             0.8,
             "#7fbc41"
            ],
            [
             0.9,
             "#4d9221"
            ],
            [
             1,
             "#276419"
            ]
           ],
           "sequential": [
            [
             0,
             "#0d0887"
            ],
            [
             0.1111111111111111,
             "#46039f"
            ],
            [
             0.2222222222222222,
             "#7201a8"
            ],
            [
             0.3333333333333333,
             "#9c179e"
            ],
            [
             0.4444444444444444,
             "#bd3786"
            ],
            [
             0.5555555555555556,
             "#d8576b"
            ],
            [
             0.6666666666666666,
             "#ed7953"
            ],
            [
             0.7777777777777778,
             "#fb9f3a"
            ],
            [
             0.8888888888888888,
             "#fdca26"
            ],
            [
             1,
             "#f0f921"
            ]
           ],
           "sequentialminus": [
            [
             0,
             "#0d0887"
            ],
            [
             0.1111111111111111,
             "#46039f"
            ],
            [
             0.2222222222222222,
             "#7201a8"
            ],
            [
             0.3333333333333333,
             "#9c179e"
            ],
            [
             0.4444444444444444,
             "#bd3786"
            ],
            [
             0.5555555555555556,
             "#d8576b"
            ],
            [
             0.6666666666666666,
             "#ed7953"
            ],
            [
             0.7777777777777778,
             "#fb9f3a"
            ],
            [
             0.8888888888888888,
             "#fdca26"
            ],
            [
             1,
             "#f0f921"
            ]
           ]
          },
          "colorway": [
           "#636efa",
           "#EF553B",
           "#00cc96",
           "#ab63fa",
           "#FFA15A",
           "#19d3f3",
           "#FF6692",
           "#B6E880",
           "#FF97FF",
           "#FECB52"
          ],
          "font": {
           "color": "#2a3f5f"
          },
          "geo": {
           "bgcolor": "white",
           "lakecolor": "white",
           "landcolor": "#E5ECF6",
           "showlakes": true,
           "showland": true,
           "subunitcolor": "white"
          },
          "hoverlabel": {
           "align": "left"
          },
          "hovermode": "closest",
          "mapbox": {
           "style": "light"
          },
          "paper_bgcolor": "white",
          "plot_bgcolor": "#E5ECF6",
          "polar": {
           "angularaxis": {
            "gridcolor": "white",
            "linecolor": "white",
            "ticks": ""
           },
           "bgcolor": "#E5ECF6",
           "radialaxis": {
            "gridcolor": "white",
            "linecolor": "white",
            "ticks": ""
           }
          },
          "scene": {
           "xaxis": {
            "backgroundcolor": "#E5ECF6",
            "gridcolor": "white",
            "gridwidth": 2,
            "linecolor": "white",
            "showbackground": true,
            "ticks": "",
            "zerolinecolor": "white"
           },
           "yaxis": {
            "backgroundcolor": "#E5ECF6",
            "gridcolor": "white",
            "gridwidth": 2,
            "linecolor": "white",
            "showbackground": true,
            "ticks": "",
            "zerolinecolor": "white"
           },
           "zaxis": {
            "backgroundcolor": "#E5ECF6",
            "gridcolor": "white",
            "gridwidth": 2,
            "linecolor": "white",
            "showbackground": true,
            "ticks": "",
            "zerolinecolor": "white"
           }
          },
          "shapedefaults": {
           "line": {
            "color": "#2a3f5f"
           }
          },
          "ternary": {
           "aaxis": {
            "gridcolor": "white",
            "linecolor": "white",
            "ticks": ""
           },
           "baxis": {
            "gridcolor": "white",
            "linecolor": "white",
            "ticks": ""
           },
           "bgcolor": "#E5ECF6",
           "caxis": {
            "gridcolor": "white",
            "linecolor": "white",
            "ticks": ""
           }
          },
          "title": {
           "x": 0.05
          },
          "xaxis": {
           "automargin": true,
           "gridcolor": "white",
           "linecolor": "white",
           "ticks": "",
           "title": {
            "standoff": 15
           },
           "zerolinecolor": "white",
           "zerolinewidth": 2
          },
          "yaxis": {
           "automargin": true,
           "gridcolor": "white",
           "linecolor": "white",
           "ticks": "",
           "title": {
            "standoff": 15
           },
           "zerolinecolor": "white",
           "zerolinewidth": 2
          }
         }
        },
        "title": {
         "text": "Regresión Lineal: Precio de Terrenos vs Área"
        },
        "xaxis": {
         "title": {
          "text": "Área (acres)"
         }
        },
        "yaxis": {
         "title": {
          "text": "Precio (millones USD)"
         }
        }
       }
      }
     },
     "metadata": {},
     "output_type": "display_data"
    },
    {
     "name": "stdout",
     "output_type": "stream",
     "text": [
      "CPU times: total: 31.2 ms\n",
      "Wall time: 19 ms\n"
     ]
    }
   ],
   "source": [
    "%%time\n",
    "\"\"\"Graficando con plotly la regresión lineal\"\"\"\n",
    "import plotly.graph_objects as go\n",
    "\n",
    "fig = go.Figure()\n",
    "\n",
    "# Datos reales\n",
    "fig.add_trace(go.Scatter(\n",
    "    x=X.flatten(), y=y,\n",
    "    mode='markers',\n",
    "    name='Datos reales',\n",
    "    marker=dict(color='blue', size=10)\n",
    "))\n",
    "\n",
    "# Formato\n",
    "fig.update_layout(\n",
    "    title='Regresión Lineal: Precio de Terrenos vs Área',\n",
    "    xaxis_title='Área (acres)',\n",
    "    yaxis_title='Precio (millones USD)',\n",
    "    showlegend=True\n",
    ")\n",
    "\n",
    "fig.show()"
   ]
  },
  {
   "cell_type": "markdown",
   "metadata": {},
   "source": [
    "<h4 style=\"color:#E67E22;font-size: 1.8rem;\">2.1.2) (5) Predicciones</h4>\n",
    "\n",
    "* **Evaluar:** Usar el modelo para estimar precios (millones USD) para terrenos con:\n",
    "\n",
    "$$\n",
    "\\{25, 30, 35, 40\\} \\text{ acres}.\n",
    "$$\n",
    "\n"
   ]
  },
  {
   "cell_type": "code",
   "execution_count": 20,
   "metadata": {},
   "outputs": [
    {
     "name": "stdout",
     "output_type": "stream",
     "text": [
      "\n",
      "Predicciones (millones USD):\n",
      "25 acres → $53.10M\n",
      "30 acres → $63.16M\n",
      "35 acres → $73.21M\n",
      "40 acres → $83.26M\n",
      "CPU times: total: 0 ns\n",
      "Wall time: 0 ns\n"
     ]
    }
   ],
   "source": [
    "%%time\n",
    "\"\"\"Predecir nuevos valores usando el modelo entrenado\"\"\"\n",
    "# Áreas a predecir\n",
    "nuevas_areas = np.array([25, 30, 35, 40]).reshape(-1, 1)\n",
    "\n",
    "# Añadir Bias y predecir\n",
    "X_nuevos = np.column_stack([np.ones_like(nuevas_areas), nuevas_areas])\n",
    "y_pred = X_nuevos @ c\n",
    "\n",
    "print(\"\\nPredicciones (millones USD):\")\n",
    "for area, precio in zip(nuevas_areas.flatten(), y_pred):\n",
    "    print(f\"{area} acres → ${precio:.2f}M\")"
   ]
  },
  {
   "cell_type": "code",
   "execution_count": 26,
   "metadata": {},
   "outputs": [
    {
     "name": "stdout",
     "output_type": "stream",
     "text": [
      "\n",
      "Métricas de error (sobre tus datos reales):\n",
      "MAE: $1.6506M\n",
      "RMSE: $2.0055M\n",
      "R²: 0.9563 (1.0 es perfecto)\n",
      "CPU times: total: 0 ns\n",
      "Wall time: 2.36 ms\n"
     ]
    }
   ],
   "source": [
    "%%time\n",
    "\"\"\"Verificar ajuste con R^2, y otras metricas gomosas\"\"\"\n",
    "\n",
    "from sklearn.metrics import mean_absolute_error, mean_squared_error, r2_score\n",
    "\n",
    "# Predecir valores para los datos originales\n",
    "y_pred_original = X_with_bias @ c\n",
    "\n",
    "# Métricas\n",
    "mae = mean_absolute_error(y, y_pred_original)\n",
    "rmse = np.sqrt(mean_squared_error(y, y_pred_original))\n",
    "r2 = r2_score(y, y_pred_original)\n",
    "\n",
    "print(f\"\\nMétricas de error (sobre tus datos reales):\")\n",
    "print(f\"MAE: ${mae:.4f}M\")\n",
    "print(f\"RMSE: ${rmse:.4f}M\")\n",
    "print(f\"R²: {r2:.4f} (1.0 es perfecto)\")"
   ]
  },
  {
   "cell_type": "code",
   "execution_count": 30,
   "metadata": {},
   "outputs": [
    {
     "data": {
      "application/vnd.plotly.v1+json": {
       "config": {
        "plotlyServerURL": "https://plot.ly"
       },
       "data": [
        {
         "hovertemplate": "Área: %{x} acres<br>Precio real: $%{y:.2f}M",
         "marker": {
          "color": "blue",
          "size": 10
         },
         "mode": "markers",
         "name": "Datos reales",
         "type": "scatter",
         "x": [
          4,
          4.161616161616162,
          4.3232323232323235,
          4.484848484848484,
          4.646464646464646,
          4.808080808080808,
          4.96969696969697,
          5.1313131313131315,
          5.292929292929293,
          5.454545454545455,
          5.616161616161616,
          5.777777777777778,
          5.9393939393939394,
          6.101010101010101,
          6.262626262626263,
          6.424242424242424,
          6.5858585858585865,
          6.747474747474747,
          6.909090909090909,
          7.070707070707071,
          7.232323232323233,
          7.3939393939393945,
          7.555555555555555,
          7.717171717171718,
          7.878787878787879,
          8.040404040404042,
          8.202020202020202,
          8.363636363636363,
          8.525252525252526,
          8.686868686868687,
          8.848484848484848,
          9.01010101010101,
          9.171717171717173,
          9.333333333333334,
          9.494949494949495,
          9.656565656565657,
          9.818181818181818,
          9.97979797979798,
          10.141414141414142,
          10.303030303030305,
          10.464646464646465,
          10.626262626262626,
          10.787878787878789,
          10.94949494949495,
          11.11111111111111,
          11.272727272727273,
          11.434343434343436,
          11.595959595959597,
          11.757575757575758,
          11.91919191919192,
          12.080808080808081,
          12.242424242424244,
          12.404040404040405,
          12.565656565656566,
          12.727272727272728,
          12.88888888888889,
          13.050505050505052,
          13.212121212121213,
          13.373737373737374,
          13.535353535353536,
          13.696969696969697,
          13.85858585858586,
          14.02020202020202,
          14.181818181818183,
          14.343434343434344,
          14.505050505050505,
          14.666666666666668,
          14.828282828282829,
          14.989898989898991,
          15.151515151515152,
          15.313131313131315,
          15.474747474747476,
          15.636363636363637,
          15.7979797979798,
          15.95959595959596,
          16.121212121212125,
          16.282828282828284,
          16.444444444444443,
          16.60606060606061,
          16.767676767676768,
          16.92929292929293,
          17.090909090909093,
          17.252525252525253,
          17.414141414141415,
          17.575757575757578,
          17.737373737373737,
          17.8989898989899,
          18.060606060606062,
          18.22222222222222,
          18.383838383838388,
          18.545454545454547,
          18.707070707070706,
          18.868686868686872,
          19.03030303030303,
          19.191919191919194,
          19.353535353535356,
          19.515151515151516,
          19.67676767676768,
          19.83838383838384,
          20
         ],
         "y": [
          11.266027457574943,
          8.368342243669156,
          14.301315415314335,
          9.84960470808577,
          13.843565530010526,
          12.560458669878274,
          11.810288834124595,
          16.319765654507567,
          14.642961846928946,
          15.103253495225555,
          14.261673590753345,
          13.623721166273691,
          16.675840973650747,
          14.573131477312437,
          16.745817649697305,
          15.307978883930259,
          13.144219266737323,
          15.44709845935364,
          12.60085422957059,
          19.351726454368052,
          18.40480362548269,
          15.407490085854286,
          21.212041821357438,
          16.309912493309,
          13.705513163252794,
          20.977654326576186,
          21.03313182624732,
          20.736104192037384,
          20.964236239345297,
          18.13993841257082,
          20.58350621070158,
          21.958088210725517,
          20.356997966420607,
          18.302015212699985,
          21.678472341170572,
          22.54453348405423,
          21.595546269124817,
          24.493136877827038,
          22.55640427580314,
          22.044059555405706,
          23.367278710011593,
          23.56944786676432,
          22.444936495374048,
          24.65333955489921,
          27.650071557547207,
          27.258110325628973,
          25.062213286003928,
          27.467194018166502,
          30.009583993497934,
          24.69951821770054,
          24.977278861935513,
          28.848989994467875,
          28.446589307740286,
          28.050311501981145,
          29.372079058954053,
          28.42669889466761,
          29.930468549758714,
          27.55941461038139,
          33.168948762342126,
          33.13742027666663,
          28.87297994171762,
          29.89199636082277,
          30.718616871957654,
          30.99330736114498,
          30.176640918753073,
          34.41385859245359,
          29.76116555637324,
          37.5284923267393,
          31.127613854102865,
          34.95038755760574,
          34.21909049420904,
          31.088755270795172,
          36.50160277226973,
          32.94162756049929,
          35.217518920268766,
          36.90236351167499,
          35.42800787907649,
          32.77762312747358,
          38.63875183064028,
          40.82279715368247,
          34.774105274468724,
          34.56791678231805,
          39.56761606308572,
          37.15193230506278,
          37.62158617990078,
          36.44642293352436,
          37.40136268146693,
          42.246065209042996,
          39.449008750477134,
          42.30649123440696,
          39.64359991805776,
          38.50829104343869,
          41.29916713929264,
          37.59600233953803,
          45.30471651967061,
          39.60381146630984,
          39.90230676397189,
          42.811399199261125,
          43.90693702982954,
          42.40446186058792
         ]
        },
        {
         "hovertemplate": "Área: %{x} acres<br>Precio estimado: $%{y:.2f}M",
         "line": {
          "color": "red",
          "width": 2
         },
         "mode": "lines",
         "name": "Modelo ajustado",
         "type": "scatter",
         "x": [
          [
           4
          ],
          [
           4.363636363636363
          ],
          [
           4.7272727272727275
          ],
          [
           5.090909090909091
          ],
          [
           5.454545454545455
          ],
          [
           5.818181818181818
          ],
          [
           6.181818181818182
          ],
          [
           6.545454545454545
          ],
          [
           6.909090909090909
          ],
          [
           7.272727272727273
          ],
          [
           7.636363636363637
          ],
          [
           8
          ],
          [
           8.363636363636363
          ],
          [
           8.727272727272727
          ],
          [
           9.09090909090909
          ],
          [
           9.454545454545455
          ],
          [
           9.818181818181818
          ],
          [
           10.181818181818182
          ],
          [
           10.545454545454547
          ],
          [
           10.90909090909091
          ],
          [
           11.272727272727273
          ],
          [
           11.636363636363637
          ],
          [
           12
          ],
          [
           12.363636363636363
          ],
          [
           12.727272727272727
          ],
          [
           13.090909090909092
          ],
          [
           13.454545454545455
          ],
          [
           13.818181818181818
          ],
          [
           14.181818181818182
          ],
          [
           14.545454545454545
          ],
          [
           14.90909090909091
          ],
          [
           15.272727272727273
          ],
          [
           15.636363636363637
          ],
          [
           16
          ],
          [
           16.363636363636363
          ],
          [
           16.727272727272727
          ],
          [
           17.090909090909093
          ],
          [
           17.454545454545453
          ],
          [
           17.81818181818182
          ],
          [
           18.18181818181818
          ],
          [
           18.545454545454547
          ],
          [
           18.90909090909091
          ],
          [
           19.272727272727273
          ],
          [
           19.636363636363637
          ],
          [
           20
          ],
          [
           20.363636363636363
          ],
          [
           20.727272727272727
          ],
          [
           21.09090909090909
          ],
          [
           21.454545454545453
          ],
          [
           21.81818181818182
          ],
          [
           22.181818181818183
          ],
          [
           22.545454545454547
          ],
          [
           22.90909090909091
          ],
          [
           23.272727272727273
          ],
          [
           23.636363636363637
          ],
          [
           24
          ],
          [
           24.363636363636363
          ],
          [
           24.727272727272727
          ],
          [
           25.09090909090909
          ],
          [
           25.454545454545457
          ],
          [
           25.81818181818182
          ],
          [
           26.181818181818183
          ],
          [
           26.545454545454547
          ],
          [
           26.90909090909091
          ],
          [
           27.272727272727273
          ],
          [
           27.636363636363637
          ],
          [
           28
          ],
          [
           28.363636363636363
          ],
          [
           28.727272727272727
          ],
          [
           29.09090909090909
          ],
          [
           29.454545454545457
          ],
          [
           29.81818181818182
          ],
          [
           30.181818181818183
          ],
          [
           30.545454545454547
          ],
          [
           30.90909090909091
          ],
          [
           31.272727272727273
          ],
          [
           31.636363636363637
          ],
          [
           32
          ],
          [
           32.36363636363636
          ],
          [
           32.72727272727273
          ],
          [
           33.09090909090909
          ],
          [
           33.45454545454545
          ],
          [
           33.81818181818182
          ],
          [
           34.18181818181819
          ],
          [
           34.54545454545455
          ],
          [
           34.90909090909091
          ],
          [
           35.27272727272727
          ],
          [
           35.63636363636364
          ],
          [
           36
          ],
          [
           36.36363636363637
          ],
          [
           36.72727272727273
          ],
          [
           37.09090909090909
          ],
          [
           37.45454545454545
          ],
          [
           37.81818181818182
          ],
          [
           38.18181818181818
          ],
          [
           38.54545454545455
          ],
          [
           38.90909090909091
          ],
          [
           39.27272727272727
          ],
          [
           39.63636363636364
          ],
          [
           40
          ]
         ],
         "y": [
          [
           10.877904888858481
          ],
          [
           11.609085359818275
          ],
          [
           12.340265830778073
          ],
          [
           13.071446301737867
          ],
          [
           13.802626772697664
          ],
          [
           14.533807243657458
          ],
          [
           15.264987714617254
          ],
          [
           15.996168185577048
          ],
          [
           16.727348656536847
          ],
          [
           17.45852912749664
          ],
          [
           18.18970959845644
          ],
          [
           18.92089006941623
          ],
          [
           19.652070540376027
          ],
          [
           20.38325101133582
          ],
          [
           21.114431482295615
          ],
          [
           21.845611953255414
          ],
          [
           22.57679242421521
          ],
          [
           23.307972895175002
          ],
          [
           24.0391533661348
          ],
          [
           24.770333837094597
          ],
          [
           25.501514308054393
          ],
          [
           26.232694779014185
          ],
          [
           26.96387524997398
          ],
          [
           27.695055720933777
          ],
          [
           28.42623619189357
          ],
          [
           29.157416662853368
          ],
          [
           29.888597133813164
          ],
          [
           30.61977760477296
          ],
          [
           31.350958075732752
          ],
          [
           32.08213854669255
          ],
          [
           32.81331901765235
          ],
          [
           33.544499488612146
          ],
          [
           34.27567995957193
          ],
          [
           35.00686043053173
          ],
          [
           35.73804090149152
          ],
          [
           36.46922137245132
          ],
          [
           37.20040184341112
          ],
          [
           37.93158231437091
          ],
          [
           38.66276278533071
          ],
          [
           39.3939432562905
          ],
          [
           40.125123727250305
          ],
          [
           40.8563041982101
          ],
          [
           41.58748466916989
          ],
          [
           42.31866514012969
          ],
          [
           43.04984561108948
          ],
          [
           43.78102608204927
          ],
          [
           44.51220655300907
          ],
          [
           45.243387023968864
          ],
          [
           45.97456749492866
          ],
          [
           46.70574796588846
          ],
          [
           47.436928436848255
          ],
          [
           48.168108907808055
          ],
          [
           48.89928937876785
          ],
          [
           49.63046984972764
          ],
          [
           50.36165032068744
          ],
          [
           51.09283079164723
          ],
          [
           51.82401126260702
          ],
          [
           52.55519173356682
          ],
          [
           53.286372204526614
          ],
          [
           54.017552675486414
          ],
          [
           54.74873314644621
          ],
          [
           55.479913617406005
          ],
          [
           56.211094088365805
          ],
          [
           56.9422745593256
          ],
          [
           57.67345503028539
          ],
          [
           58.40463550124519
          ],
          [
           59.13581597220498
          ],
          [
           59.86699644316477
          ],
          [
           60.59817691412457
          ],
          [
           61.329357385084364
          ],
          [
           62.060537856044164
          ],
          [
           62.79171832700396
          ],
          [
           63.522898797963755
          ],
          [
           64.25407926892356
          ],
          [
           64.98525973988335
          ],
          [
           65.71644021084313
          ],
          [
           66.44762068180293
          ],
          [
           67.17880115276273
          ],
          [
           67.90998162372252
          ],
          [
           68.64116209468231
          ],
          [
           69.37234256564213
          ],
          [
           70.10352303660191
          ],
          [
           70.83470350756171
          ],
          [
           71.56588397852151
          ],
          [
           72.2970644494813
          ],
          [
           73.02824492044108
          ],
          [
           73.7594253914009
          ],
          [
           74.4906058623607
          ],
          [
           75.22178633332048
          ],
          [
           75.95296680428028
          ],
          [
           76.68414727524006
          ],
          [
           77.41532774619988
          ],
          [
           78.14650821715966
          ],
          [
           78.87768868811946
          ],
          [
           79.60886915907925
          ],
          [
           80.34004963003905
          ],
          [
           81.07123010099883
          ],
          [
           81.80241057195865
          ],
          [
           82.53359104291845
          ],
          [
           83.26477151387823
          ]
         ]
        },
        {
         "hovertemplate": "Área: %{x} acres<br>Precio predicho: $%{y:.2f}M",
         "marker": {
          "color": "green",
          "size": 12,
          "symbol": "diamond"
         },
         "mode": "markers",
         "name": "Predicciones nuevas",
         "type": "scatter",
         "x": [
          25,
          30,
          35,
          40
         ],
         "y": [
          53.10357708678667,
          63.157308562483855,
          73.21104003818104,
          83.26477151387823
         ]
        }
       ],
       "layout": {
        "annotations": [
         {
          "bgcolor": "white",
          "bordercolor": "black",
          "borderwidth": 1,
          "showarrow": false,
          "text": "<b>Métricas de error</b><br>MAE: $1.65M<br>RMSE: $2.01M<br>R²: 0.9563",
          "x": 0.95,
          "xref": "paper",
          "y": 0.15,
          "yref": "paper"
         }
        ],
        "hovermode": "x unified",
        "showlegend": true,
        "template": {
         "data": {
          "bar": [
           {
            "error_x": {
             "color": "#2a3f5f"
            },
            "error_y": {
             "color": "#2a3f5f"
            },
            "marker": {
             "line": {
              "color": "white",
              "width": 0.5
             },
             "pattern": {
              "fillmode": "overlay",
              "size": 10,
              "solidity": 0.2
             }
            },
            "type": "bar"
           }
          ],
          "barpolar": [
           {
            "marker": {
             "line": {
              "color": "white",
              "width": 0.5
             },
             "pattern": {
              "fillmode": "overlay",
              "size": 10,
              "solidity": 0.2
             }
            },
            "type": "barpolar"
           }
          ],
          "carpet": [
           {
            "aaxis": {
             "endlinecolor": "#2a3f5f",
             "gridcolor": "#C8D4E3",
             "linecolor": "#C8D4E3",
             "minorgridcolor": "#C8D4E3",
             "startlinecolor": "#2a3f5f"
            },
            "baxis": {
             "endlinecolor": "#2a3f5f",
             "gridcolor": "#C8D4E3",
             "linecolor": "#C8D4E3",
             "minorgridcolor": "#C8D4E3",
             "startlinecolor": "#2a3f5f"
            },
            "type": "carpet"
           }
          ],
          "choropleth": [
           {
            "colorbar": {
             "outlinewidth": 0,
             "ticks": ""
            },
            "type": "choropleth"
           }
          ],
          "contour": [
           {
            "colorbar": {
             "outlinewidth": 0,
             "ticks": ""
            },
            "colorscale": [
             [
              0,
              "#0d0887"
             ],
             [
              0.1111111111111111,
              "#46039f"
             ],
             [
              0.2222222222222222,
              "#7201a8"
             ],
             [
              0.3333333333333333,
              "#9c179e"
             ],
             [
              0.4444444444444444,
              "#bd3786"
             ],
             [
              0.5555555555555556,
              "#d8576b"
             ],
             [
              0.6666666666666666,
              "#ed7953"
             ],
             [
              0.7777777777777778,
              "#fb9f3a"
             ],
             [
              0.8888888888888888,
              "#fdca26"
             ],
             [
              1,
              "#f0f921"
             ]
            ],
            "type": "contour"
           }
          ],
          "contourcarpet": [
           {
            "colorbar": {
             "outlinewidth": 0,
             "ticks": ""
            },
            "type": "contourcarpet"
           }
          ],
          "heatmap": [
           {
            "colorbar": {
             "outlinewidth": 0,
             "ticks": ""
            },
            "colorscale": [
             [
              0,
              "#0d0887"
             ],
             [
              0.1111111111111111,
              "#46039f"
             ],
             [
              0.2222222222222222,
              "#7201a8"
             ],
             [
              0.3333333333333333,
              "#9c179e"
             ],
             [
              0.4444444444444444,
              "#bd3786"
             ],
             [
              0.5555555555555556,
              "#d8576b"
             ],
             [
              0.6666666666666666,
              "#ed7953"
             ],
             [
              0.7777777777777778,
              "#fb9f3a"
             ],
             [
              0.8888888888888888,
              "#fdca26"
             ],
             [
              1,
              "#f0f921"
             ]
            ],
            "type": "heatmap"
           }
          ],
          "heatmapgl": [
           {
            "colorbar": {
             "outlinewidth": 0,
             "ticks": ""
            },
            "colorscale": [
             [
              0,
              "#0d0887"
             ],
             [
              0.1111111111111111,
              "#46039f"
             ],
             [
              0.2222222222222222,
              "#7201a8"
             ],
             [
              0.3333333333333333,
              "#9c179e"
             ],
             [
              0.4444444444444444,
              "#bd3786"
             ],
             [
              0.5555555555555556,
              "#d8576b"
             ],
             [
              0.6666666666666666,
              "#ed7953"
             ],
             [
              0.7777777777777778,
              "#fb9f3a"
             ],
             [
              0.8888888888888888,
              "#fdca26"
             ],
             [
              1,
              "#f0f921"
             ]
            ],
            "type": "heatmapgl"
           }
          ],
          "histogram": [
           {
            "marker": {
             "pattern": {
              "fillmode": "overlay",
              "size": 10,
              "solidity": 0.2
             }
            },
            "type": "histogram"
           }
          ],
          "histogram2d": [
           {
            "colorbar": {
             "outlinewidth": 0,
             "ticks": ""
            },
            "colorscale": [
             [
              0,
              "#0d0887"
             ],
             [
              0.1111111111111111,
              "#46039f"
             ],
             [
              0.2222222222222222,
              "#7201a8"
             ],
             [
              0.3333333333333333,
              "#9c179e"
             ],
             [
              0.4444444444444444,
              "#bd3786"
             ],
             [
              0.5555555555555556,
              "#d8576b"
             ],
             [
              0.6666666666666666,
              "#ed7953"
             ],
             [
              0.7777777777777778,
              "#fb9f3a"
             ],
             [
              0.8888888888888888,
              "#fdca26"
             ],
             [
              1,
              "#f0f921"
             ]
            ],
            "type": "histogram2d"
           }
          ],
          "histogram2dcontour": [
           {
            "colorbar": {
             "outlinewidth": 0,
             "ticks": ""
            },
            "colorscale": [
             [
              0,
              "#0d0887"
             ],
             [
              0.1111111111111111,
              "#46039f"
             ],
             [
              0.2222222222222222,
              "#7201a8"
             ],
             [
              0.3333333333333333,
              "#9c179e"
             ],
             [
              0.4444444444444444,
              "#bd3786"
             ],
             [
              0.5555555555555556,
              "#d8576b"
             ],
             [
              0.6666666666666666,
              "#ed7953"
             ],
             [
              0.7777777777777778,
              "#fb9f3a"
             ],
             [
              0.8888888888888888,
              "#fdca26"
             ],
             [
              1,
              "#f0f921"
             ]
            ],
            "type": "histogram2dcontour"
           }
          ],
          "mesh3d": [
           {
            "colorbar": {
             "outlinewidth": 0,
             "ticks": ""
            },
            "type": "mesh3d"
           }
          ],
          "parcoords": [
           {
            "line": {
             "colorbar": {
              "outlinewidth": 0,
              "ticks": ""
             }
            },
            "type": "parcoords"
           }
          ],
          "pie": [
           {
            "automargin": true,
            "type": "pie"
           }
          ],
          "scatter": [
           {
            "fillpattern": {
             "fillmode": "overlay",
             "size": 10,
             "solidity": 0.2
            },
            "type": "scatter"
           }
          ],
          "scatter3d": [
           {
            "line": {
             "colorbar": {
              "outlinewidth": 0,
              "ticks": ""
             }
            },
            "marker": {
             "colorbar": {
              "outlinewidth": 0,
              "ticks": ""
             }
            },
            "type": "scatter3d"
           }
          ],
          "scattercarpet": [
           {
            "marker": {
             "colorbar": {
              "outlinewidth": 0,
              "ticks": ""
             }
            },
            "type": "scattercarpet"
           }
          ],
          "scattergeo": [
           {
            "marker": {
             "colorbar": {
              "outlinewidth": 0,
              "ticks": ""
             }
            },
            "type": "scattergeo"
           }
          ],
          "scattergl": [
           {
            "marker": {
             "colorbar": {
              "outlinewidth": 0,
              "ticks": ""
             }
            },
            "type": "scattergl"
           }
          ],
          "scattermapbox": [
           {
            "marker": {
             "colorbar": {
              "outlinewidth": 0,
              "ticks": ""
             }
            },
            "type": "scattermapbox"
           }
          ],
          "scatterpolar": [
           {
            "marker": {
             "colorbar": {
              "outlinewidth": 0,
              "ticks": ""
             }
            },
            "type": "scatterpolar"
           }
          ],
          "scatterpolargl": [
           {
            "marker": {
             "colorbar": {
              "outlinewidth": 0,
              "ticks": ""
             }
            },
            "type": "scatterpolargl"
           }
          ],
          "scatterternary": [
           {
            "marker": {
             "colorbar": {
              "outlinewidth": 0,
              "ticks": ""
             }
            },
            "type": "scatterternary"
           }
          ],
          "surface": [
           {
            "colorbar": {
             "outlinewidth": 0,
             "ticks": ""
            },
            "colorscale": [
             [
              0,
              "#0d0887"
             ],
             [
              0.1111111111111111,
              "#46039f"
             ],
             [
              0.2222222222222222,
              "#7201a8"
             ],
             [
              0.3333333333333333,
              "#9c179e"
             ],
             [
              0.4444444444444444,
              "#bd3786"
             ],
             [
              0.5555555555555556,
              "#d8576b"
             ],
             [
              0.6666666666666666,
              "#ed7953"
             ],
             [
              0.7777777777777778,
              "#fb9f3a"
             ],
             [
              0.8888888888888888,
              "#fdca26"
             ],
             [
              1,
              "#f0f921"
             ]
            ],
            "type": "surface"
           }
          ],
          "table": [
           {
            "cells": {
             "fill": {
              "color": "#EBF0F8"
             },
             "line": {
              "color": "white"
             }
            },
            "header": {
             "fill": {
              "color": "#C8D4E3"
             },
             "line": {
              "color": "white"
             }
            },
            "type": "table"
           }
          ]
         },
         "layout": {
          "annotationdefaults": {
           "arrowcolor": "#2a3f5f",
           "arrowhead": 0,
           "arrowwidth": 1
          },
          "autotypenumbers": "strict",
          "coloraxis": {
           "colorbar": {
            "outlinewidth": 0,
            "ticks": ""
           }
          },
          "colorscale": {
           "diverging": [
            [
             0,
             "#8e0152"
            ],
            [
             0.1,
             "#c51b7d"
            ],
            [
             0.2,
             "#de77ae"
            ],
            [
             0.3,
             "#f1b6da"
            ],
            [
             0.4,
             "#fde0ef"
            ],
            [
             0.5,
             "#f7f7f7"
            ],
            [
             0.6,
             "#e6f5d0"
            ],
            [
             0.7,
             "#b8e186"
            ],
            [
             0.8,
             "#7fbc41"
            ],
            [
             0.9,
             "#4d9221"
            ],
            [
             1,
             "#276419"
            ]
           ],
           "sequential": [
            [
             0,
             "#0d0887"
            ],
            [
             0.1111111111111111,
             "#46039f"
            ],
            [
             0.2222222222222222,
             "#7201a8"
            ],
            [
             0.3333333333333333,
             "#9c179e"
            ],
            [
             0.4444444444444444,
             "#bd3786"
            ],
            [
             0.5555555555555556,
             "#d8576b"
            ],
            [
             0.6666666666666666,
             "#ed7953"
            ],
            [
             0.7777777777777778,
             "#fb9f3a"
            ],
            [
             0.8888888888888888,
             "#fdca26"
            ],
            [
             1,
             "#f0f921"
            ]
           ],
           "sequentialminus": [
            [
             0,
             "#0d0887"
            ],
            [
             0.1111111111111111,
             "#46039f"
            ],
            [
             0.2222222222222222,
             "#7201a8"
            ],
            [
             0.3333333333333333,
             "#9c179e"
            ],
            [
             0.4444444444444444,
             "#bd3786"
            ],
            [
             0.5555555555555556,
             "#d8576b"
            ],
            [
             0.6666666666666666,
             "#ed7953"
            ],
            [
             0.7777777777777778,
             "#fb9f3a"
            ],
            [
             0.8888888888888888,
             "#fdca26"
            ],
            [
             1,
             "#f0f921"
            ]
           ]
          },
          "colorway": [
           "#636efa",
           "#EF553B",
           "#00cc96",
           "#ab63fa",
           "#FFA15A",
           "#19d3f3",
           "#FF6692",
           "#B6E880",
           "#FF97FF",
           "#FECB52"
          ],
          "font": {
           "color": "#2a3f5f"
          },
          "geo": {
           "bgcolor": "white",
           "lakecolor": "white",
           "landcolor": "white",
           "showlakes": true,
           "showland": true,
           "subunitcolor": "#C8D4E3"
          },
          "hoverlabel": {
           "align": "left"
          },
          "hovermode": "closest",
          "mapbox": {
           "style": "light"
          },
          "paper_bgcolor": "white",
          "plot_bgcolor": "white",
          "polar": {
           "angularaxis": {
            "gridcolor": "#EBF0F8",
            "linecolor": "#EBF0F8",
            "ticks": ""
           },
           "bgcolor": "white",
           "radialaxis": {
            "gridcolor": "#EBF0F8",
            "linecolor": "#EBF0F8",
            "ticks": ""
           }
          },
          "scene": {
           "xaxis": {
            "backgroundcolor": "white",
            "gridcolor": "#DFE8F3",
            "gridwidth": 2,
            "linecolor": "#EBF0F8",
            "showbackground": true,
            "ticks": "",
            "zerolinecolor": "#EBF0F8"
           },
           "yaxis": {
            "backgroundcolor": "white",
            "gridcolor": "#DFE8F3",
            "gridwidth": 2,
            "linecolor": "#EBF0F8",
            "showbackground": true,
            "ticks": "",
            "zerolinecolor": "#EBF0F8"
           },
           "zaxis": {
            "backgroundcolor": "white",
            "gridcolor": "#DFE8F3",
            "gridwidth": 2,
            "linecolor": "#EBF0F8",
            "showbackground": true,
            "ticks": "",
            "zerolinecolor": "#EBF0F8"
           }
          },
          "shapedefaults": {
           "line": {
            "color": "#2a3f5f"
           }
          },
          "ternary": {
           "aaxis": {
            "gridcolor": "#DFE8F3",
            "linecolor": "#A2B1C6",
            "ticks": ""
           },
           "baxis": {
            "gridcolor": "#DFE8F3",
            "linecolor": "#A2B1C6",
            "ticks": ""
           },
           "bgcolor": "white",
           "caxis": {
            "gridcolor": "#DFE8F3",
            "linecolor": "#A2B1C6",
            "ticks": ""
           }
          },
          "title": {
           "x": 0.05
          },
          "xaxis": {
           "automargin": true,
           "gridcolor": "#EBF0F8",
           "linecolor": "#EBF0F8",
           "ticks": "",
           "title": {
            "standoff": 15
           },
           "zerolinecolor": "#EBF0F8",
           "zerolinewidth": 2
          },
          "yaxis": {
           "automargin": true,
           "gridcolor": "#EBF0F8",
           "linecolor": "#EBF0F8",
           "ticks": "",
           "title": {
            "standoff": 15
           },
           "zerolinecolor": "#EBF0F8",
           "zerolinewidth": 2
          }
         }
        },
        "title": {
         "text": "<b>Regresión Lineal: Precio de Terrenos vs Área</b>"
        },
        "xaxis": {
         "title": {
          "text": "Área (acres)"
         }
        },
        "yaxis": {
         "title": {
          "text": "Precio (millones USD)"
         }
        }
       }
      }
     },
     "metadata": {},
     "output_type": "display_data"
    },
    {
     "name": "stdout",
     "output_type": "stream",
     "text": [
      "CPU times: total: 750 ms\n",
      "Wall time: 1.78 s\n"
     ]
    }
   ],
   "source": [
    "%%time\n",
    "\"\"\"Grafico con los resultados\"\"\"\n",
    "import plotly.graph_objects as go\n",
    "\n",
    "# Gráfico interactivo con Plotly \n",
    "fig = go.Figure()\n",
    "\n",
    "# Datos reales (puntos azules)\n",
    "fig.add_trace(go.Scatter(\n",
    "    x=X.flatten(), y=y,\n",
    "    mode='markers',\n",
    "    name='Datos reales',\n",
    "    marker=dict(color='blue', size=10),\n",
    "    hovertemplate=\"Área: %{x} acres<br>Precio real: $%{y:.2f}M\"\n",
    "))\n",
    "\n",
    "# Línea de regresión (roja)\n",
    "x_line = np.linspace(min(X), max(nuevas_areas), 100)\n",
    "y_line = c[0] + c[1] * x_line\n",
    "fig.add_trace(go.Scatter(\n",
    "    x=x_line, y=y_line,\n",
    "    mode='lines',\n",
    "    name='Modelo ajustado',\n",
    "    line=dict(color='red', width=2),\n",
    "    hovertemplate=\"Área: %{x} acres<br>Precio estimado: $%{y:.2f}M\"\n",
    "))\n",
    "\n",
    "# Predicciones nuevas (diamantes verdes)\n",
    "fig.add_trace(go.Scatter(\n",
    "    x=nuevas_areas.flatten(), y=y_pred,\n",
    "    mode='markers',\n",
    "    name='Predicciones nuevas',\n",
    "    marker=dict(color='green', size=12, symbol='diamond'),\n",
    "    hovertemplate=\"Área: %{x} acres<br>Precio predicho: $%{y:.2f}M\"\n",
    "))\n",
    "\n",
    "# Cuadro de texto con métricas\n",
    "fig.add_annotation(\n",
    "    xref=\"paper\", yref=\"paper\",\n",
    "    x=0.95, y=0.15,\n",
    "    text=f\"<b>Métricas de error</b><br>MAE: ${mae:.2f}M<br>RMSE: ${rmse:.2f}M<br>R²: {r2:.4f}\",\n",
    "    showarrow=False,\n",
    "    bgcolor=\"white\",\n",
    "    bordercolor=\"black\",\n",
    "    borderwidth=1\n",
    ")\n",
    "\n",
    "# Formato del gráfico\n",
    "fig.update_layout(\n",
    "    title='<b>Regresión Lineal: Precio de Terrenos vs Área</b>',\n",
    "    xaxis_title='Área (acres)',\n",
    "    yaxis_title='Precio (millones USD)',\n",
    "    hovermode=\"x unified\",\n",
    "    showlegend=True,\n",
    "    template=\"plotly_white\"\n",
    ")\n",
    "\n",
    "fig.show()"
   ]
  }
 ],
 "metadata": {
  "kaggle": {
   "accelerator": "nvidiaTeslaT4",
   "dataSources": [
    {
     "datasetId": 627146,
     "sourceId": 1117472,
     "sourceType": "datasetVersion"
    }
   ],
   "dockerImageVersionId": 30839,
   "isGpuEnabled": true,
   "isInternetEnabled": true,
   "language": "python",
   "sourceType": "notebook"
  },
  "kernelspec": {
   "display_name": "base",
   "language": "python",
   "name": "python3"
  },
  "language_info": {
   "codemirror_mode": {
    "name": "ipython",
    "version": 3
   },
   "file_extension": ".py",
   "mimetype": "text/x-python",
   "name": "python",
   "nbconvert_exporter": "python",
   "pygments_lexer": "ipython3",
   "version": "3.12.7"
  }
 },
 "nbformat": 4,
 "nbformat_minor": 4
}
